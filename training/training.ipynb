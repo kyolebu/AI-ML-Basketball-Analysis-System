{
 "cells": [
  {
   "cell_type": "code",
   "execution_count": 2,
   "metadata": {},
   "outputs": [],
   "source": [
    "#!pip install ultralytics\n",
    "#!pip install roboflow"
   ]
  },
  {
   "cell_type": "code",
   "execution_count": 3,
   "metadata": {},
   "outputs": [],
   "source": [
    "#from roboflow import Roboflow\n",
    "#from dotenv import load_dotenv\n",
    "#import os\n",
    "\n",
    "#load_dotenv()\n",
    "#roboflow_api_key = os.getenv(\"ROBOFLOW_API_KEY\")\n",
    "\n",
    "#rf = Roboflow(api_key=roboflow_api_key)\n",
    "#project = rf.workspace().project(\"basketball-players-detection-flths\")\n",
    "#version = project.version(2)\n",
    "#dataset = version.download(\"yolov5\")"
   ]
  },
  {
   "cell_type": "code",
   "execution_count": 4,
   "metadata": {},
   "outputs": [],
   "source": [
    "#import shutil\n",
    "\n",
    "#shutil.move('basketball-players-detection-1/train',\n",
    "#            'basketball-players-detection-1/basketball-players-detection-1/train'\n",
    "#            )\n",
    "\n",
    "#shutil.move('basketball-players-detection-1/test',\n",
    "#            'basketball-players-detection-1/basketball-players-detection-1/test'\n",
    "#            )\n",
    "\n",
    "#shutil.move('basketball-players-detection-1/valid',\n",
    "#            'basketball-players-detection-1/basketball-players-detection-1/valid'\n",
    "#            )"
   ]
  },
  {
   "cell_type": "code",
   "execution_count": 5,
   "metadata": {},
   "outputs": [],
   "source": [
    "#!yolo task=detect mode=train model=yolov5xu.pt data={dataset.location}/data.yaml epochs=20 imgsz=640"
   ]
  }
 ],
 "metadata": {
  "kernelspec": {
   "display_name": "Python 3",
   "language": "python",
   "name": "python3"
  },
  "language_info": {
   "codemirror_mode": {
    "name": "ipython",
    "version": 3
   },
   "file_extension": ".py",
   "mimetype": "text/x-python",
   "name": "python",
   "nbconvert_exporter": "python",
   "pygments_lexer": "ipython3",
   "version": "3.10.14"
  }
 },
 "nbformat": 4,
 "nbformat_minor": 2
}
